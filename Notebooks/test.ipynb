{
 "cells": [
  {
   "cell_type": "code",
   "metadata": {
    "ExecuteTime": {
     "end_time": "2025-03-03T17:03:25.338417Z",
     "start_time": "2025-03-03T17:03:25.332413Z"
    }
   },
   "source": [
    "import pandas as pd\n",
    "import numpy as np\n",
    "from sklearn.model_selection import train_test_split\n",
    "from sklearn.preprocessing import StandardScaler\n",
    "from sklearn.naive_bayes import GaussianNB\n",
    "from sklearn.tree import DecisionTreeClassifier\n",
    "from sklearn.ensemble import RandomForestClassifier\n",
    "from sklearn.svm import SVC\n",
    "from sklearn.neighbors import KNeighborsClassifier\n",
    "from sklearn.metrics import accuracy_score\n",
    "import joblib\n",
    "import matplotlib.pyplot as plt"
   ],
   "outputs": [],
   "execution_count": 20
  },
  {
   "cell_type": "code",
   "metadata": {
    "ExecuteTime": {
     "end_time": "2025-03-03T17:03:25.356626Z",
     "start_time": "2025-03-03T17:03:25.346903Z"
    }
   },
   "source": [
    "data = pd.read_csv(\"A:/Jetbrains/Pycharm/Capstone/Datasets/diabetes.csv\")\n",
    "data = data.rename(columns={\n",
    "    'BloodPressure': 'BP',\n",
    "    'Glucose': 'Sugar',\n",
    "    'Outcome': 'Condition'\n",
    "})"
   ],
   "outputs": [],
   "execution_count": 21
  },
  {
   "cell_type": "code",
   "metadata": {
    "ExecuteTime": {
     "end_time": "2025-03-03T17:03:25.387584Z",
     "start_time": "2025-03-03T17:03:25.381044Z"
    }
   },
   "source": [
    "data['Condition'] = data['Condition'].map({0: \"Normal\", 1: \"Diabetic\"})"
   ],
   "outputs": [],
   "execution_count": 22
  },
  {
   "cell_type": "code",
   "metadata": {
    "ExecuteTime": {
     "end_time": "2025-03-03T17:03:25.414834Z",
     "start_time": "2025-03-03T17:03:25.410283Z"
    }
   },
   "source": [
    "X = data[['BP', 'Sugar', 'BMI', 'Age']]\n",
    "y = data['Condition']\n"
   ],
   "outputs": [],
   "execution_count": 23
  },
  {
   "cell_type": "code",
   "metadata": {
    "ExecuteTime": {
     "end_time": "2025-03-03T17:03:25.462581Z",
     "start_time": "2025-03-03T17:03:25.453761Z"
    }
   },
   "source": [
    "scaler = StandardScaler()\n",
    "X = scaler.fit_transform(X)\n"
   ],
   "outputs": [],
   "execution_count": 24
  },
  {
   "cell_type": "code",
   "metadata": {
    "ExecuteTime": {
     "end_time": "2025-03-03T17:03:25.476887Z",
     "start_time": "2025-03-03T17:03:25.470111Z"
    }
   },
   "source": [
    "X_train, X_test, y_train, y_test = train_test_split(X, y, test_size=0.2, random_state=42)"
   ],
   "outputs": [],
   "execution_count": 25
  },
  {
   "cell_type": "code",
   "metadata": {
    "ExecuteTime": {
     "end_time": "2025-03-03T17:03:25.503679Z",
     "start_time": "2025-03-03T17:03:25.498155Z"
    }
   },
   "source": [
    "models = {\n",
    "    \"Naive Bayes\": GaussianNB(),\n",
    "    \"Decision Tree\": DecisionTreeClassifier(random_state=42),\n",
    "    \"Random Forest\": RandomForestClassifier(n_estimators=100, random_state=42),\n",
    "    \"SVM\": SVC(),\n",
    "    \"KNN\": KNeighborsClassifier(n_neighbors=5)\n",
    "}\n"
   ],
   "outputs": [],
   "execution_count": 26
  },
  {
   "cell_type": "code",
   "metadata": {
    "ExecuteTime": {
     "end_time": "2025-03-03T17:03:25.956476Z",
     "start_time": "2025-03-03T17:03:25.545782Z"
    }
   },
   "source": [
    "accuracies = {}\n",
    "for name, model in models.items():\n",
    "    model.fit(X_train, y_train)\n",
    "    y_pred = model.predict(X_test)\n",
    "    acc = accuracy_score(y_test, y_pred)\n",
    "    accuracies[name] = acc\n",
    "    print(f\"{name} Accuracy: {acc:.2f}\")\n",
    "\n",
    "plt.bar(accuracies.keys(), accuracies.values(), edgecolor='black',width=0.5, alpha=0.7)\n"
   ],
   "outputs": [
    {
     "name": "stdout",
     "output_type": "stream",
     "text": [
      "Naive Bayes Accuracy: 0.73\n",
      "Decision Tree Accuracy: 0.71\n",
      "Random Forest Accuracy: 0.75\n",
      "SVM Accuracy: 0.76\n",
      "KNN Accuracy: 0.72\n"
     ]
    },
    {
     "data": {
      "text/plain": [
       "<BarContainer object of 5 artists>"
      ]
     },
     "execution_count": 27,
     "metadata": {},
     "output_type": "execute_result"
    },
    {
     "data": {
      "text/plain": [
       "<Figure size 640x480 with 1 Axes>"
      ],
      "image/png": "[encoded data removed]"
     },
     "metadata": {},
     "output_type": "display_data"
    }
   ],
   "execution_count": 27
  },
  {
   "cell_type": "code",
   "metadata": {
    "ExecuteTime": {
     "end_time": "2025-03-03T17:03:25.990746Z",
     "start_time": "2025-03-03T17:03:25.979368Z"
    }
   },
   "source": [
    "best_model_name = max(accuracies, key=accuracies.get)\n",
    "best_model = models[best_model_name]\n",
    "joblib.dump(best_model, \"best_health_model.pkl\")\n",
    "print(f\"Best model ({best_model_name}) saved.\")\n"
   ],
   "outputs": [
    {
     "name": "stdout",
     "output_type": "stream",
     "text": [
      "Best model (SVM) saved.\n"
     ]
    }
   ],
   "execution_count": 28
  },
  {
   "cell_type": "code",
   "metadata": {
    "ExecuteTime": {
     "end_time": "2025-03-03T17:03:26.028738Z",
     "start_time": "2025-03-03T17:03:26.018445Z"
    }
   },
   "source": [
    "best_model = joblib.load(\"best_health_model.pkl\")"
   ],
   "outputs": [],
   "execution_count": 29
  },
  {
   "cell_type": "code",
   "metadata": {
    "ExecuteTime": {
     "end_time": "2025-03-03T17:03:26.054304Z",
     "start_time": "2025-03-03T17:03:26.050170Z"
    }
   },
   "source": [
    "user_input = {\n",
    "    \"BP\": 140, \"Sugar\": 110, \"Age\": 50, \"BMI\": 28\n",
    "}\n"
   ],
   "outputs": [],
   "execution_count": 30
  },
  {
   "cell_type": "code",
   "metadata": {
    "ExecuteTime": {
     "end_time": "2025-03-03T17:03:26.100209Z",
     "start_time": "2025-03-03T17:03:26.093744Z"
    }
   },
   "source": [
    "user_features = np.array([user_input['BP'], user_input['Sugar'], \n",
    "                        user_input['Age'], user_input['BMI']]).reshape(1, -1)\n"
   ],
   "outputs": [],
   "execution_count": 31
  },
  {
   "cell_type": "code",
   "metadata": {
    "ExecuteTime": {
     "end_time": "2025-03-03T17:03:26.121413Z",
     "start_time": "2025-03-03T17:03:26.113914Z"
    }
   },
   "source": [
    "user_features = scaler.transform(user_features)"
   ],
   "outputs": [
    {
     "name": "stderr",
     "output_type": "stream",
     "text": [
      "C:\\Users\\aadip\\anaconda3\\envs\\Capstone\\Lib\\site-packages\\sklearn\\utils\\validation.py:2739: UserWarning: X does not have valid feature names, but StandardScaler was fitted with feature names\n",
      "  warnings.warn(\n"
     ]
    }
   ],
   "execution_count": 32
  },
  {
   "cell_type": "code",
   "metadata": {
    "ExecuteTime": {
     "end_time": "2025-03-03T17:03:26.157630Z",
     "start_time": "2025-03-03T17:03:26.144196Z"
    }
   },
   "source": [
    "risk_zone = best_model.predict(user_features)\n",
    "categories = {0: \"Normal\", 1: \"Pre-Diabetic\", 2: \"Diabetic\"}\n",
    "print(f\"\\nPredicted Risk Zone: {categories[0]}\")"
   ],
   "outputs": [
    {
     "name": "stdout",
     "output_type": "stream",
     "text": [
      "\n",
      "Predicted Risk Zone: Normal\n"
     ]
    }
   ],
   "execution_count": 33
  },
  {
   "cell_type": "code",
   "metadata": {
    "ExecuteTime": {
     "end_time": "2025-03-03T17:03:26.202146Z",
     "start_time": "2025-03-03T17:03:26.195283Z"
    }
   },
   "source": [
    "thresholds = {\n",
    "    \"Normal\": {\"BP\": 120, \"Sugar\": 100, \"HeartRate\": 70},\n",
    "    \"Pre-Diabetic\": {\"BP\": 130, \"Sugar\": 110, \"HeartRate\": 80},\n",
    "    \"Diabetic\": {\"BP\": 140, \"Sugar\": 126, \"HeartRate\": 90}\n",
    "}\n"
   ],
   "outputs": [],
   "execution_count": 34
  },
  {
   "cell_type": "code",
   "metadata": {
    "ExecuteTime": {
     "end_time": "2025-03-03T17:03:26.235228Z",
     "start_time": "2025-03-03T17:03:26.229369Z"
    }
   },
   "source": [
    "def compare_with_thresholds(user_input, thresholds):\n",
    "    for condition, limits in thresholds.items():\n",
    "        within_limits = all(user_input[param] <= limit for param, limit in limits.items() if param in user_input)\n",
    "        if within_limits:\n",
    "            return condition\n",
    "    return \"Above All Limits\"\n"
   ],
   "outputs": [],
   "execution_count": 35
  },
  {
   "cell_type": "code",
   "metadata": {
    "ExecuteTime": {
     "end_time": "2025-03-03T17:03:26.265003Z",
     "start_time": "2025-03-03T17:03:26.259192Z"
    }
   },
   "source": [
    "feedback = compare_with_thresholds(user_input, thresholds)\n",
    "print(f\"Threshold-Based Condition: {feedback}\")"
   ],
   "outputs": [
    {
     "name": "stdout",
     "output_type": "stream",
     "text": [
      "Threshold-Based Condition: Diabetic\n"
     ]
    }
   ],
   "execution_count": 36
  },
  {
   "cell_type": "code",
   "metadata": {
    "ExecuteTime": {
     "end_time": "2025-03-03T17:03:26.465972Z",
     "start_time": "2025-03-03T17:03:26.291282Z"
    }
   },
   "source": [
    "plt.hist(data['BP'], bins=20, alpha=0.7, label='Historical Data')\n",
    "plt.axvline(user_input['BP'], color='red', linestyle='dashed', linewidth=2, label=\"User Input\")\n",
    "plt.xlabel(\"Blood Pressure\")\n",
    "plt.ylabel(\"Frequency\")\n",
    "plt.title(\"Blood Pressure Comparison\")\n",
    "plt.legend()\n",
    "plt.show()\n"
   ],
   "outputs": [
    {
     "data": {
      "text/plain": [
       "<Figure size 640x480 with 1 Axes>"
      ],
      "image/png": "[encoded data removed]"
     },
     "metadata": {},
     "output_type": "display_data"
    }
   ],
   "execution_count": 37
  }
 ],
 "metadata": {
  "kernelspec": {
   "display_name": ".venv",
   "language": "python",
   "name": "python3"
  },
  "language_info": {
   "codemirror_mode": {
    "name": "ipython",
    "version": 3
   },
   "file_extension": ".py",
   "mimetype": "text/x-python",
   "name": "python",
   "nbconvert_exporter": "python",
   "pygments_lexer": "ipython3",
   "version": "3.13.0"
  }
 },
 "nbformat": 4,
 "nbformat_minor": 2
}
